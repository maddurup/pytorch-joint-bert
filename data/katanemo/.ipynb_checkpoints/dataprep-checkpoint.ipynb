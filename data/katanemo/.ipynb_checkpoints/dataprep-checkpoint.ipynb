{
 "cells": [
  {
   "cell_type": "code",
   "execution_count": 1,
   "id": "650ab1a6-9aa2-4fd7-b139-51d666cf4f67",
   "metadata": {},
   "outputs": [],
   "source": [
    "import pandas as pd"
   ]
  },
  {
   "cell_type": "code",
   "execution_count": 36,
   "id": "1d692d0d-51c1-4a36-9e2a-7950f531026d",
   "metadata": {},
   "outputs": [],
   "source": [
    "def make_slots(s):\n",
    "    out_string = ''\n",
    "    for x in s.split(' '):\n",
    "        out_string += \"O\"\n",
    "        out_string += \" \"*len(x)\n",
    "\n",
    "    return out_string"
   ]
  },
  {
   "cell_type": "code",
   "execution_count": 13,
   "id": "95a91d69-7a24-4628-adff-98671c3aed51",
   "metadata": {},
   "outputs": [
    {
     "data": {
      "text/html": [
       "<div>\n",
       "<style scoped>\n",
       "    .dataframe tbody tr th:only-of-type {\n",
       "        vertical-align: middle;\n",
       "    }\n",
       "\n",
       "    .dataframe tbody tr th {\n",
       "        vertical-align: top;\n",
       "    }\n",
       "\n",
       "    .dataframe thead th {\n",
       "        text-align: right;\n",
       "    }\n",
       "</style>\n",
       "<table border=\"1\" class=\"dataframe\">\n",
       "  <thead>\n",
       "    <tr style=\"text-align: right;\">\n",
       "      <th></th>\n",
       "      <th>Text</th>\n",
       "      <th>label</th>\n",
       "    </tr>\n",
       "  </thead>\n",
       "  <tbody>\n",
       "    <tr>\n",
       "      <th>0</th>\n",
       "      <td>Are my devices experiencing consistently high ...</td>\n",
       "      <td>time_series</td>\n",
       "    </tr>\n",
       "    <tr>\n",
       "      <th>1</th>\n",
       "      <td>Are my devices experiencing consistently high ...</td>\n",
       "      <td>time_series</td>\n",
       "    </tr>\n",
       "    <tr>\n",
       "      <th>2</th>\n",
       "      <td>Are there patterns of increased CPU usage duri...</td>\n",
       "      <td>time_series</td>\n",
       "    </tr>\n",
       "    <tr>\n",
       "      <th>3</th>\n",
       "      <td>Are there specific times of the day that exper...</td>\n",
       "      <td>time_series</td>\n",
       "    </tr>\n",
       "    <tr>\n",
       "      <th>4</th>\n",
       "      <td>Are there any drops in network over the last x...</td>\n",
       "      <td>time_series</td>\n",
       "    </tr>\n",
       "    <tr>\n",
       "      <th>5</th>\n",
       "      <td>When were peak drops (errors or discards) over...</td>\n",
       "      <td>time_series</td>\n",
       "    </tr>\n",
       "    <tr>\n",
       "      <th>6</th>\n",
       "      <td>What was the bandwidth utilization during the ...</td>\n",
       "      <td>time_series</td>\n",
       "    </tr>\n",
       "    <tr>\n",
       "      <th>7</th>\n",
       "      <td>Can you provide the timeline where the network...</td>\n",
       "      <td>time_series</td>\n",
       "    </tr>\n",
       "    <tr>\n",
       "      <th>8</th>\n",
       "      <td>Can you provide the timeline where the network...</td>\n",
       "      <td>time_series</td>\n",
       "    </tr>\n",
       "    <tr>\n",
       "      <th>9</th>\n",
       "      <td>Which HWSKU is contributing to the maximum net...</td>\n",
       "      <td>time_series</td>\n",
       "    </tr>\n",
       "    <tr>\n",
       "      <th>10</th>\n",
       "      <td>Are there specific times of the day that exper...</td>\n",
       "      <td>time_series</td>\n",
       "    </tr>\n",
       "    <tr>\n",
       "      <th>11</th>\n",
       "      <td>Are there devices generating a significantly h...</td>\n",
       "      <td>time_series</td>\n",
       "    </tr>\n",
       "    <tr>\n",
       "      <th>12</th>\n",
       "      <td>Which device is generating a significantly hig...</td>\n",
       "      <td>time_series</td>\n",
       "    </tr>\n",
       "    <tr>\n",
       "      <th>13</th>\n",
       "      <td>How many network packets are being sent by my ...</td>\n",
       "      <td>fact_count</td>\n",
       "    </tr>\n",
       "    <tr>\n",
       "      <th>14</th>\n",
       "      <td>Are there devices generating a significantly h...</td>\n",
       "      <td>fact_count</td>\n",
       "    </tr>\n",
       "    <tr>\n",
       "      <th>15</th>\n",
       "      <td>How many network devices are there in my deplo...</td>\n",
       "      <td>fact_count</td>\n",
       "    </tr>\n",
       "    <tr>\n",
       "      <th>16</th>\n",
       "      <td>How many os versions are there?</td>\n",
       "      <td>fact_count</td>\n",
       "    </tr>\n",
       "    <tr>\n",
       "      <th>17</th>\n",
       "      <td>How many HWSKUs are there in the network?</td>\n",
       "      <td>fact_count</td>\n",
       "    </tr>\n",
       "    <tr>\n",
       "      <th>18</th>\n",
       "      <td>How many devices are there in my deployment?</td>\n",
       "      <td>fact_count</td>\n",
       "    </tr>\n",
       "    <tr>\n",
       "      <th>19</th>\n",
       "      <td>How many regions are there?</td>\n",
       "      <td>fact_count</td>\n",
       "    </tr>\n",
       "    <tr>\n",
       "      <th>20</th>\n",
       "      <td>How many network packets are being sent by my ...</td>\n",
       "      <td>fact_count</td>\n",
       "    </tr>\n",
       "    <tr>\n",
       "      <th>21</th>\n",
       "      <td>How many network packets are being sent by my ...</td>\n",
       "      <td>fact_count</td>\n",
       "    </tr>\n",
       "    <tr>\n",
       "      <th>22</th>\n",
       "      <td>What is the overall capacity of my network fab...</td>\n",
       "      <td>fact_count</td>\n",
       "    </tr>\n",
       "    <tr>\n",
       "      <th>23</th>\n",
       "      <td>How many roles are there in my network?</td>\n",
       "      <td>fact_count</td>\n",
       "    </tr>\n",
       "    <tr>\n",
       "      <th>24</th>\n",
       "      <td>Which devices are receiving or transmitting un...</td>\n",
       "      <td>fact_list</td>\n",
       "    </tr>\n",
       "    <tr>\n",
       "      <th>25</th>\n",
       "      <td>Which HWSKU &amp; NOS had major discards or errors?</td>\n",
       "      <td>fact_list</td>\n",
       "    </tr>\n",
       "    <tr>\n",
       "      <th>26</th>\n",
       "      <td>Which os versions are there in my network?</td>\n",
       "      <td>fact_list</td>\n",
       "    </tr>\n",
       "    <tr>\n",
       "      <th>27</th>\n",
       "      <td>which HWSKUs are there?</td>\n",
       "      <td>fact_list</td>\n",
       "    </tr>\n",
       "    <tr>\n",
       "      <th>28</th>\n",
       "      <td>which os versions are there in the region?</td>\n",
       "      <td>fact_list</td>\n",
       "    </tr>\n",
       "    <tr>\n",
       "      <th>29</th>\n",
       "      <td>Which roles are there in my network?</td>\n",
       "      <td>fact_list</td>\n",
       "    </tr>\n",
       "  </tbody>\n",
       "</table>\n",
       "</div>"
      ],
      "text/plain": [
       "                                                 Text        label\n",
       "0   Are my devices experiencing consistently high ...  time_series\n",
       "1   Are my devices experiencing consistently high ...  time_series\n",
       "2   Are there patterns of increased CPU usage duri...  time_series\n",
       "3   Are there specific times of the day that exper...  time_series\n",
       "4   Are there any drops in network over the last x...  time_series\n",
       "5   When were peak drops (errors or discards) over...  time_series\n",
       "6   What was the bandwidth utilization during the ...  time_series\n",
       "7   Can you provide the timeline where the network...  time_series\n",
       "8   Can you provide the timeline where the network...  time_series\n",
       "9   Which HWSKU is contributing to the maximum net...  time_series\n",
       "10  Are there specific times of the day that exper...  time_series\n",
       "11  Are there devices generating a significantly h...  time_series\n",
       "12  Which device is generating a significantly hig...  time_series\n",
       "13  How many network packets are being sent by my ...   fact_count\n",
       "14  Are there devices generating a significantly h...   fact_count\n",
       "15  How many network devices are there in my deplo...   fact_count\n",
       "16                    How many os versions are there?   fact_count\n",
       "17          How many HWSKUs are there in the network?   fact_count\n",
       "18       How many devices are there in my deployment?   fact_count\n",
       "19                        How many regions are there?   fact_count\n",
       "20  How many network packets are being sent by my ...   fact_count\n",
       "21  How many network packets are being sent by my ...   fact_count\n",
       "22  What is the overall capacity of my network fab...   fact_count\n",
       "23            How many roles are there in my network?   fact_count\n",
       "24  Which devices are receiving or transmitting un...    fact_list\n",
       "25    Which HWSKU & NOS had major discards or errors?    fact_list\n",
       "26         Which os versions are there in my network?    fact_list\n",
       "27                            which HWSKUs are there?    fact_list\n",
       "28         which os versions are there in the region?    fact_list\n",
       "29               Which roles are there in my network?    fact_list"
      ]
     },
     "execution_count": 13,
     "metadata": {},
     "output_type": "execute_result"
    }
   ],
   "source": [
    "df = pd.read_csv('raw_data_large.csv', sep = ',')\n",
    "df"
   ]
  },
  {
   "cell_type": "code",
   "execution_count": 10,
   "id": "a6db7088-774a-4896-9ec7-53452922f8b5",
   "metadata": {},
   "outputs": [],
   "source": [
    "# df.to_csv('raw_data_1.csv', sep = ',', index = False)"
   ]
  },
  {
   "cell_type": "markdown",
   "id": "4cca7936-ddbf-4aac-afbe-3f107feee515",
   "metadata": {},
   "source": [
    "### Create Intent Label File"
   ]
  },
  {
   "cell_type": "code",
   "execution_count": 20,
   "id": "f00d5a51-2c8f-46a2-a283-422bd0d6359b",
   "metadata": {},
   "outputs": [],
   "source": [
    "f  = open('intent_label.txt', 'w')\n",
    "for v in df.label.unique():\n",
    "    f.write(v + '\\n')\n",
    "f.write('UNK')\n",
    "f.close()"
   ]
  },
  {
   "cell_type": "markdown",
   "id": "3f08dee4-a2e7-4c2f-8db9-1c475a5a7325",
   "metadata": {},
   "source": [
    "### Train Labels"
   ]
  },
  {
   "cell_type": "code",
   "execution_count": 22,
   "id": "7a7336bf-40ba-458e-b86d-28a14870e857",
   "metadata": {},
   "outputs": [],
   "source": [
    "f  = open('./train/label', 'w')\n",
    "for v in df.label.values:\n",
    "    f.write(v + '\\n')\n",
    "\n",
    "f.close()"
   ]
  },
  {
   "cell_type": "markdown",
   "id": "72d97e31-3f61-4ffc-a772-44b5011c8c44",
   "metadata": {
    "tags": []
   },
   "source": [
    "### Train seq IN"
   ]
  },
  {
   "cell_type": "code",
   "execution_count": 23,
   "id": "5387883c-be10-4894-a999-d9493b2469a7",
   "metadata": {},
   "outputs": [],
   "source": [
    "f  = open('./train/seq.in', 'w')\n",
    "for v in df.Text.values:\n",
    "    f.write(v + '\\n')\n",
    "\n",
    "f.close()"
   ]
  },
  {
   "cell_type": "markdown",
   "id": "60583335-ae92-4b76-9814-05373bffdeb1",
   "metadata": {},
   "source": [
    "### Train seq OUT"
   ]
  },
  {
   "cell_type": "code",
   "execution_count": 24,
   "id": "eb7f847c-dea0-48f3-aed1-85450d62ccda",
   "metadata": {},
   "outputs": [],
   "source": [
    "f  = open('./train/seq.out', 'w')\n",
    "for v in df.Text.values:\n",
    "    slot_len = len(v.split(' '))\n",
    "    slots_string = [\"O\"]*slot_len\n",
    "    slots_string = \" \".join(slots_string)\n",
    "    f.write(slots_string + '\\n')\n",
    "\n",
    "f.close()"
   ]
  },
  {
   "cell_type": "markdown",
   "id": "153d95ee-b0b7-438b-914c-d832bc4820e4",
   "metadata": {},
   "source": [
    "#### Manual Labeling DataSet"
   ]
  },
  {
   "cell_type": "code",
   "execution_count": 39,
   "id": "8487049f-5738-4489-9f08-3f6e98630f61",
   "metadata": {},
   "outputs": [],
   "source": [
    "f  = open('./train/manuallabelset.out', 'w')\n",
    "for v in df.Text.values:\n",
    "    f.write(v + '\\n')\n",
    "    f.write(make_slots(v) + '\\n')\n",
    "\n",
    "f.close()"
   ]
  },
  {
   "cell_type": "markdown",
   "id": "6cb94a61-cd21-4fba-812c-c21c41e44995",
   "metadata": {},
   "source": [
    "#### Manually Slot Labeled Set"
   ]
  },
  {
   "cell_type": "code",
   "execution_count": 40,
   "id": "7890936c-c009-47e8-99fd-0d837f7d120a",
   "metadata": {},
   "outputs": [],
   "source": [
    "f  = open('./train/manual_labeled_phani.txt', 'r')\n",
    "file_content = f.read()\n",
    "f.close()"
   ]
  },
  {
   "cell_type": "code",
   "execution_count": 113,
   "id": "dd1ee909-ce65-4ba4-b2f4-9663553c3c37",
   "metadata": {},
   "outputs": [
    {
     "data": {
      "text/plain": [
       "['O O O O O O O O B-entity_type O',\n",
       " 'O O O O O O O O B-entity_type O',\n",
       " 'O O O O O B-entity_type O O O O O',\n",
       " 'O O O O O O O O O O O B-entity_type I-entity_type',\n",
       " 'O O O O O B-entity_type O O O B-time_frame I-time_frame',\n",
       " 'O O O O O O O O O O B-time_frame I-time_frame',\n",
       " 'O O O O O O O B-time_frame I-time_frame',\n",
       " 'O O O O O O O B-entity_type I-entity_type O O O O O O B-time_frame I-time_frame O O O',\n",
       " 'O O O O O O O B-entity_type I-entity_type O O O O O O B-time_frame I-time_frame I-time_frame O O O',\n",
       " 'O O O O O O O B-entity_type I-entity_type O O B-time_frame I-time_frame I-time_frame',\n",
       " 'O O B-time_frame I-time_frame I-time_frame I-time_frame I-time_frame O O O O B-entity_type I-entity_type',\n",
       " 'O O B-entity_type O O O O O O O',\n",
       " 'O B-entity_type O O O O O O O O',\n",
       " 'O O O O O O O O B-entity_type I-entity_type',\n",
       " 'O O B-entity_type O O O O O O O',\n",
       " 'O O O B-entity_type O O O O O',\n",
       " 'O O B-entity_type O O O',\n",
       " 'O O B-entity_type O O O O O',\n",
       " 'O O B-entity_type O O O O O',\n",
       " 'O O B-count_what O O',\n",
       " 'O O B-count_what I-count_what O O O O B-entity_type I-entity_type',\n",
       " 'O O B-count_what I-count_what O O O O B-entity_type I-entity_type',\n",
       " 'O O O B-count_what I-count_what O B-entity_type I-entity_type I-entity_type',\n",
       " 'O O B-count_what O O O B-entity_type I-entity_type',\n",
       " 'O B-entity_type O O O O O O O O O',\n",
       " 'O B-entity_type I-entity_type I-entity_type O O O O O',\n",
       " 'O B-entity_type O O O O O O',\n",
       " 'O B-entity_type O O',\n",
       " 'O B-entity_type O O O O O O',\n",
       " 'O B-list_what O O O B-entity_type I-entity_type']"
      ]
     },
     "execution_count": 113,
     "metadata": {},
     "output_type": "execute_result"
    }
   ],
   "source": [
    "slot_labeled_data_list = []\n",
    "for i, s in enumerate(file_content.split('\\n')):\n",
    "    if i >= 1 and i%2 != 0:\n",
    "        slot_labeled_data_list.append(\" \".join(s.split()))\n",
    "\n",
    "slot_labeled_data_list  "
   ]
  },
  {
   "cell_type": "code",
   "execution_count": 71,
   "id": "c076509d-5d3a-45fc-a33b-7941cb6c339c",
   "metadata": {},
   "outputs": [],
   "source": [
    "f  = open('./train/seq.out', 'w')\n",
    "for v in slot_labeled_data_list:\n",
    "    f.write(v + '\\n')\n",
    "f.close()"
   ]
  },
  {
   "cell_type": "code",
   "execution_count": 110,
   "id": "e5ff3c56-986c-4bf4-aa47-e831c5421a14",
   "metadata": {},
   "outputs": [
    {
     "data": {
      "text/plain": [
       "['O',\n",
       " 'B-count_what',\n",
       " 'I-count_what',\n",
       " 'B-entity_type',\n",
       " 'I-entity_type',\n",
       " 'B-list_what',\n",
       " 'B-time_frame',\n",
       " 'I-time_frame']"
      ]
     },
     "execution_count": 110,
     "metadata": {},
     "output_type": "execute_result"
    }
   ],
   "source": [
    "slot_labels = sorted(list(set(sum([v.split() for v in slot_labeled_data_list], []))))\n",
    "slot_labels = [\"-\".join(x[::-1]) for x in sorted([x.split('-')[::-1] for x in slot_labels])]\n",
    "slot_labels"
   ]
  },
  {
   "cell_type": "code",
   "execution_count": 111,
   "id": "9e517ea5-11f6-42b3-8d77-37c817772f6b",
   "metadata": {},
   "outputs": [],
   "source": [
    "# [\"-\".join(x[::-1]) for x in sorted([x.split('-')[::-1] for x in slot_labels])]"
   ]
  },
  {
   "cell_type": "code",
   "execution_count": 112,
   "id": "fc5ccbe7-2ac2-4574-b89c-b2959bab0726",
   "metadata": {},
   "outputs": [],
   "source": [
    "f  = open('slot_label.txt', 'w')\n",
    "f.write('PAD' + '\\n')\n",
    "f.write('UNK' + '\\n')\n",
    "\n",
    "for v in slot_labels:\n",
    "    f.write(v + '\\n')\n",
    "\n",
    "f.close()"
   ]
  },
  {
   "cell_type": "markdown",
   "id": "23bee3bf-23ee-4a80-8cfc-d505874df519",
   "metadata": {},
   "source": [
    "## Create Dev and Test data"
   ]
  },
  {
   "cell_type": "code",
   "execution_count": 80,
   "id": "79b34db9-cbef-49d2-be4b-6814b0247066",
   "metadata": {},
   "outputs": [
    {
     "name": "stdout",
     "output_type": "stream",
     "text": [
      "/Users/maddurup/Desktop/ResearchNotebooks/pytorch-joint-bert/data/katanemo\n"
     ]
    }
   ],
   "source": [
    "!pwd"
   ]
  },
  {
   "cell_type": "code",
   "execution_count": 82,
   "id": "b0b390b6-6cf4-4c0c-9944-3f09e39e47b0",
   "metadata": {},
   "outputs": [],
   "source": [
    "!cp -r ./train/s* ./dev/\n",
    "!cp -r ./train/l* ./dev/"
   ]
  },
  {
   "cell_type": "code",
   "execution_count": 83,
   "id": "fde5f23d-7247-45ad-83f8-d9bf6dd00ff2",
   "metadata": {},
   "outputs": [],
   "source": [
    "!cp -r ./train/s* ./test/\n",
    "!cp -r ./train/l* ./test/"
   ]
  },
  {
   "cell_type": "code",
   "execution_count": null,
   "id": "02bb7c66-ecd7-4700-bff3-417bc37b7db5",
   "metadata": {},
   "outputs": [],
   "source": []
  },
  {
   "cell_type": "code",
   "execution_count": null,
   "id": "45a32285-cc4b-4f2b-b0e3-48d606648067",
   "metadata": {},
   "outputs": [],
   "source": []
  },
  {
   "cell_type": "code",
   "execution_count": null,
   "id": "b9a67a0c-72d1-4b84-8076-1e0f64b4a8af",
   "metadata": {},
   "outputs": [],
   "source": []
  },
  {
   "cell_type": "code",
   "execution_count": null,
   "id": "5f843f78-5e61-4218-aa69-0dee356c4e1a",
   "metadata": {},
   "outputs": [],
   "source": []
  },
  {
   "cell_type": "code",
   "execution_count": null,
   "id": "68399a40-3cec-4096-88ee-59586d3f9834",
   "metadata": {},
   "outputs": [],
   "source": []
  },
  {
   "cell_type": "code",
   "execution_count": 28,
   "id": "ca6e0900-5f8d-40b5-b9a1-44882332d88d",
   "metadata": {},
   "outputs": [
    {
     "data": {
      "text/plain": [
       "'Are my devices experiencing consistently'"
      ]
     },
     "execution_count": 28,
     "metadata": {},
     "output_type": "execute_result"
    }
   ],
   "source": [
    "s = \"Are my devices experiencing consistently\"\n",
    "s"
   ]
  },
  {
   "cell_type": "code",
   "execution_count": 30,
   "id": "b89b9639-3710-4fd0-9319-d9848846ea28",
   "metadata": {},
   "outputs": [
    {
     "data": {
      "text/plain": [
       "['Are', 'my', 'devices', 'experiencing', 'consistently']"
      ]
     },
     "execution_count": 30,
     "metadata": {},
     "output_type": "execute_result"
    }
   ],
   "source": [
    "s.split(' ')"
   ]
  },
  {
   "cell_type": "code",
   "execution_count": 34,
   "id": "33300e45-7a28-4b5e-a1b5-9e6c914ce468",
   "metadata": {},
   "outputs": [],
   "source": [
    "def make_slots(s):\n",
    "    out_string = ''\n",
    "    for x in s.split(' '):\n",
    "        out_string += \"O\"\n",
    "        out_string += \" \"*len(x)\n",
    "\n",
    "    return out_string"
   ]
  },
  {
   "cell_type": "code",
   "execution_count": 35,
   "id": "16873955-04b4-4d4d-8b07-b7b4a8019d31",
   "metadata": {},
   "outputs": [
    {
     "data": {
      "text/plain": [
       "'O   O  O       O            O            '"
      ]
     },
     "execution_count": 35,
     "metadata": {},
     "output_type": "execute_result"
    }
   ],
   "source": [
    "make_slots(s)"
   ]
  },
  {
   "cell_type": "code",
   "execution_count": null,
   "id": "f05a8ff1-e1c4-484a-a888-393d4e423272",
   "metadata": {},
   "outputs": [],
   "source": []
  }
 ],
 "metadata": {
  "kernelspec": {
   "display_name": "Python 3 (ipykernel)",
   "language": "python",
   "name": "python3"
  },
  "language_info": {
   "codemirror_mode": {
    "name": "ipython",
    "version": 3
   },
   "file_extension": ".py",
   "mimetype": "text/x-python",
   "name": "python",
   "nbconvert_exporter": "python",
   "pygments_lexer": "ipython3",
   "version": "3.9.12"
  }
 },
 "nbformat": 4,
 "nbformat_minor": 5
}
